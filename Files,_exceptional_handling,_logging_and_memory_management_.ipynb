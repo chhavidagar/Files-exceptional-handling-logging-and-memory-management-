{
  "nbformat": 4,
  "nbformat_minor": 0,
  "metadata": {
    "colab": {
      "provenance": []
    },
    "kernelspec": {
      "name": "python3",
      "display_name": "Python 3"
    },
    "language_info": {
      "name": "python"
    }
  },
  "cells": [
    {
      "cell_type": "markdown",
      "source": [
        "Files, exceptional handling, logging and\n",
        "memory management\n",
        "\n"
      ],
      "metadata": {
        "id": "dmRYlO6CCzZ6"
      }
    },
    {
      "cell_type": "markdown",
      "source": [
        "1. What is the difference between interpreted and compiled languages\n",
        "- The key difference between interpreted and compiled languages lies in how their code is executed:\n",
        "\n",
        "Interpreted languages are executed line by line by an interpreter at runtime. Examples include Python and JavaScript. They tend to be more flexible and platform-independent but may run slower due to real-time interpretation.\n",
        "\n",
        "Compiled languages are translated entirely into machine code by a compiler before execution. Examples include C and C++. This process results in faster execution but requires recompilation for different platforms."
      ],
      "metadata": {
        "id": "S4ARGlOLC0uR"
      }
    },
    {
      "cell_type": "markdown",
      "source": [
        "2.  What is exception handling in Python\n",
        "- Exception handling in Python is a mechanism to manage errors or exceptions that occur during program execution, allowing the program to continue running or terminate gracefully. It uses the try, except, else, and finally blocks to catch and handle exceptions effectively"
      ],
      "metadata": {
        "id": "OgjoNZ1EDIfS"
      }
    },
    {
      "cell_type": "markdown",
      "source": [
        "3. What is the purpose of the finally block in exception handling0\n",
        "- The purpose of the finally block in exception handling is to ensure that certain code runs regardless of whether an exception occurs or not. It is typically used for cleanup actions, such as closing files or releasing resources."
      ],
      "metadata": {
        "id": "iZdXhd-TDbN-"
      }
    },
    {
      "cell_type": "markdown",
      "source": [
        "4. What is logging in Python0\n",
        "- Logging in Python is a way to track events that happen while a program runs. It provides a flexible framework for recording messages, such as errors, warnings, or informational events, to a console, file, or other destinations. The logging module is commonly used for this purpose."
      ],
      "metadata": {
        "id": "3CtzZuQUDocn"
      }
    },
    {
      "cell_type": "markdown",
      "source": [
        "5. What is the significance of the __del__ method in Python\n",
        "- The __del__ method in Python is a special method called a destructor. It is invoked when an object is about to be destroyed, allowing cleanup actions like releasing resources. However, its use is rare, as Python's garbage collector typically manages memory and resources automatically."
      ],
      "metadata": {
        "id": "4yXFj4hYD218"
      }
    },
    {
      "cell_type": "markdown",
      "source": [
        "6 What is the difference between import and from ... import in Python\n",
        "- The difference between import and from ... import in Python is:\n",
        "\n",
        "import: Imports the entire module, and you access its contents using the module name."
      ],
      "metadata": {
        "id": "zDDP0NDqEDPH"
      }
    },
    {
      "cell_type": "markdown",
      "source": [
        "7 . How can you handle multiple exceptions in Python0\n",
        "- You can handle multiple exceptions in Python using multiple except blocks or a single except block with a tuple of exception types."
      ],
      "metadata": {
        "id": "m_YvYriDFF87"
      }
    },
    {
      "cell_type": "markdown",
      "source": [
        "8. What is the purpose of the with statement when handling files in Python\n",
        "- he with statement in Python is used for handling files to ensure proper resource management. It automatically opens and closes the file, even if an exception occurs, making the code cleaner and safer."
      ],
      "metadata": {
        "id": "jWbAU7j1FWtF"
      }
    },
    {
      "cell_type": "markdown",
      "source": [
        "9.What is the difference between multithreading and multiprocessing\n",
        "- The difference between multithreading and multiprocessing is:\n",
        "\n",
        "Multithreading: Runs multiple threads within the same process, sharing memory and resources. It's lightweight but can be limited by the Global Interpreter Lock (GIL) in Python. Best for I/O-bound tasks.\n",
        "\n",
        "Multiprocessing: Runs multiple processes, each with its own memory space. It's heavier but avoids the GIL, making it better for CPU-bound tasks."
      ],
      "metadata": {
        "id": "y0PcFt6yFmdi"
      }
    },
    {
      "cell_type": "markdown",
      "source": [
        "10. What are the advantages of using logging in a program\n",
        "- Advantages of using logging in a program include:\n",
        "\n",
        "Debugging: Helps identify and fix issues by providing detailed runtime information.\n",
        "Monitoring: Tracks program behavior and performance over time.\n",
        "Error Tracking: Records errors and exceptions for analysis.\n",
        "Configurable Output: Logs can be directed to files, consoles, or other destinations.\n",
        "Flexible Severity Levels: Allows categorizing messages (e.g., DEBUG, INFO, WARNING, ERROR, CRITICAL).\n",
        "Improved Maintenance: Facilitates understanding and maintaining the code.\n",
        "\n",
        "\n",
        "\n",
        "\n",
        "\n"
      ],
      "metadata": {
        "id": "TNTqgFAKGIcm"
      }
    },
    {
      "cell_type": "markdown",
      "source": [
        "11. What is memory management in Python\n",
        "- Memory management in Python refers to the process of efficiently allocating, tracking, and releasing memory during the execution of a program. Python uses an automatic garbage collection system to manage memory by tracking references to objects and reclaiming memory when objects are no longer needed, primarily through reference counting and cyclic garbage collection."
      ],
      "metadata": {
        "id": "8tcA7sHBGY0H"
      }
    },
    {
      "cell_type": "markdown",
      "source": [
        "12. What are the basic steps involved in exception handling in Python\n",
        "- The basic steps involved in exception handling in Python are:\n",
        "\n",
        "Try block: Wrap the code that might raise an exception inside a try block.\n",
        "Except block: Handle specific exceptions with one or more except blocks.\n",
        "Else block (optional): Execute code if no exception occurs in the try block.\n",
        "Finally block (optional): Execute cleanup code that runs regardless of exceptions."
      ],
      "metadata": {
        "id": "wnD8ZazIGzvP"
      }
    },
    {
      "cell_type": "markdown",
      "source": [
        "13.Why is memory management important in Python\n",
        "- Memory management is important in Python because it ensures efficient use of system resources, prevents memory leaks, and improves the performance of the program. Proper memory management allows Python to automatically reclaim unused memory, optimize resource usage, and avoid crashes or slowdowns due to excessive memory consumption."
      ],
      "metadata": {
        "id": "D9wHtYHAHo9h"
      }
    },
    {
      "cell_type": "markdown",
      "source": [
        "14. What is the role of try and except in exception handling\n",
        "- In exception handling, the try block is used to wrap code that might raise an exception. If an exception occurs within the try block, the program immediately jumps to the corresponding except block to handle the exception. The except block defines how to respond to specific exceptions, preventing the program from crashing."
      ],
      "metadata": {
        "id": "qkocINtjH6lo"
      }
    },
    {
      "cell_type": "markdown",
      "source": [
        "15. How does Python's garbage collection system work\n",
        "- Python's garbage collection system manages memory by automatically reclaiming memory that is no longer in use. It primarily uses two techniques:\n",
        "\n",
        "Reference Counting: Every object has a reference count. When the count drops to zero (i.e., no references to the object), it is deleted.\n",
        "Cyclic Garbage Collection: It detects and collects objects involved in circular references (where objects refer to each other) that reference counting cannot clean up."
      ],
      "metadata": {
        "id": "b5j9QzWLIG_k"
      }
    },
    {
      "cell_type": "markdown",
      "source": [
        "16. What is the purpose of the else block in exception handlin.\n",
        "- The purpose of the else block in exception handling is to define code that should run only if no exception was raised in the try block. It provides a way to execute code when the try block completes successfully, without errors.\n",
        "\n",
        "\n",
        "\n",
        "\n",
        "\n",
        "\n"
      ],
      "metadata": {
        "id": "QjLJHCMhITjd"
      }
    },
    {
      "cell_type": "markdown",
      "source": [
        "17. What are the common logging levels in Python\n",
        "- The common logging levels in Python are:\n",
        "\n",
        "DEBUG: Detailed information, typically for diagnosing issues.\n",
        "INFO: General information about program execution.\n",
        "WARNING: Indicates a potential issue or something unexpected, but the program can continue.\n",
        "ERROR: An error occurred, but the program can recover.\n",
        "CRITICAL: A severe error that may cause the program to stop."
      ],
      "metadata": {
        "id": "y1N1J_lTIg5D"
      }
    },
    {
      "cell_type": "markdown",
      "source": [
        "18. What is the difference between os.fork() and multiprocessing in Python\n",
        "- The difference between os.fork() and multiprocessing in Python is:\n",
        "\n",
        "os.fork(): Creates a new child process by duplicating the current process. It is low-level, available only on Unix-like systems, and shares memory between parent and child processes, which can lead to issues with data consistency.\n",
        "\n",
        "multiprocessing: Provides a higher-level API for creating and managing separate processes, with each having its own memory space. It is platform-independent (works on both Unix and Windows) and avoids the issues of shared memory, making it more suitable for parallel processin"
      ],
      "metadata": {
        "id": "hB8jLyWSItIt"
      }
    },
    {
      "cell_type": "markdown",
      "source": [
        "19. What is the importance of closing a file in Python\n",
        "- Closing a file in Python is important because it ensures that all data is properly written to the file, releases system resources, and prevents potential data corruption. It also ensures that file handles are freed, avoiding resource leaks. The with statement automatically handles this, but if manually done, file.close() should be used."
      ],
      "metadata": {
        "id": "XEqPkF90I588"
      }
    },
    {
      "cell_type": "markdown",
      "source": [
        "20. What is the difference between file.read() and file.readline() in Python\n",
        "- The difference between file.read() and file.readline() in Python is:\n",
        "\n",
        "file.read(): Reads the entire content of the file as a single string.\n",
        "file.readline(): Reads the next line from the file, returning it as a string, and moves the file pointer to the next line.\n",
        "read() is used for reading the entire file, while readline() is used for reading one line at a time."
      ],
      "metadata": {
        "id": "gjwx2YYwJGhG"
      }
    },
    {
      "cell_type": "markdown",
      "source": [
        "21. What is the logging module in Python used for.\n",
        "- The logging module in Python is used for tracking and recording log messages in a program. It allows developers to log information at different severity levels (e.g., DEBUG, INFO, WARNING, ERROR, CRITICAL) to help with debugging, monitoring, and error tracking. It supports logging to various destinations like the console, files, or external systems."
      ],
      "metadata": {
        "id": "C76XrfIbJTzn"
      }
    },
    {
      "cell_type": "markdown",
      "source": [
        "22. What is the os module in Python used for in file handling.\n",
        "- The os module in Python is used for interacting with the operating system and performing file handling tasks. It provides functions to manipulate file paths, create, delete, or rename files and directories, check file existence, and access file metadata. Common functions include os.rename(), os.remove(), os.mkdir(), and os.path.exists()."
      ],
      "metadata": {
        "id": "iM2EvqrKJhg_"
      }
    },
    {
      "cell_type": "markdown",
      "source": [
        "23.  What are the challenges associated with memory management in Python\n",
        "- Challenges associated with memory management in Python include:\n",
        "\n",
        "Garbage Collection Overhead: While automatic memory management helps avoid manual allocation/deallocation, the garbage collection process can introduce performance overhead, especially in cases of cyclic references.\n",
        "\n",
        "Memory Leaks: Despite automatic memory management, memory leaks can occur if references to unused objects are not properly removed, particularly in complex programs.\n",
        "\n",
        "Limited Control: Python's memory management is automatic, which may not always align with the specific memory optimization needs of performance-critical applications.\n",
        "\n",
        "Fragmentation: Over time, memory fragmentation can occur due to frequent allocation and deallocation, which may impact performance.\n",
        "\n",
        "\n",
        "\n",
        "\n",
        "\n",
        "\n"
      ],
      "metadata": {
        "id": "IDzpIW63JtcE"
      }
    },
    {
      "cell_type": "markdown",
      "source": [
        "24. How do you raise an exception manually in Python\n",
        "- To raise an exception manually in Python, you use the raise keyword followed by the exception you want to raise."
      ],
      "metadata": {
        "id": "tCbf7ZlEKBnq"
      }
    },
    {
      "cell_type": "markdown",
      "source": [
        "25. Why is it important to use multithreading in certain applications\n",
        "-Multithreading is important in certain applications because it allows for concurrent execution of tasks, improving efficiency and responsiveness. It is especially useful for I/O-bound operations, such as file reading, network communication, or user interface tasks, as it allows the program to continue working while waiting for external resources, thereby enhancing performance and user experience."
      ],
      "metadata": {
        "id": "2RMXIB12KQnO"
      }
    },
    {
      "cell_type": "markdown",
      "source": [
        "Practical Questions"
      ],
      "metadata": {
        "id": "JsSwcMfOKeJW"
      }
    },
    {
      "cell_type": "markdown",
      "source": [
        "1.  How can you open a file for writing in Python and write a string to it"
      ],
      "metadata": {
        "id": "UNNecbdbKiI1"
      }
    },
    {
      "cell_type": "markdown",
      "source": [
        "o open a file for writing in Python and write a string to it, you can use the open() function with the mode 'w' (write mode) or 'a' (append mode). Then, use the write() method to write the string to the file."
      ],
      "metadata": {
        "id": "CKGFM4hsKuq3"
      }
    },
    {
      "cell_type": "code",
      "source": [
        "with open('file.txt', 'w') as file:\n",
        "    file.write(\"This is a string written to the file.\")\n"
      ],
      "metadata": {
        "id": "U3UNjaYEKvry"
      },
      "execution_count": 1,
      "outputs": []
    },
    {
      "cell_type": "markdown",
      "source": [
        "2.  Write a Python program to read the contents of a file and print each lineF"
      ],
      "metadata": {
        "id": "ZknPMXLaKzuY"
      }
    },
    {
      "cell_type": "code",
      "source": [
        "# Open the file in read mode\n",
        "with open('file.txt', 'r') as file:\n",
        "    # Read and print each line\n",
        "    for line in file:\n",
        "        print(line, end='')  # 'end' prevents adding extra newline\n"
      ],
      "metadata": {
        "colab": {
          "base_uri": "https://localhost:8080/"
        },
        "id": "gNdGU_7XLBZj",
        "outputId": "6a27ed06-2a85-4088-9635-9e2db47e5689"
      },
      "execution_count": 2,
      "outputs": [
        {
          "output_type": "stream",
          "name": "stdout",
          "text": [
            "This is a string written to the file."
          ]
        }
      ]
    },
    {
      "cell_type": "markdown",
      "source": [
        "3. How would you handle a case where the file doesn't exist while trying to open it for reading\n",
        "-To handle a case where the file doesn't exist while trying to open it for reading, you can use a try-except block to catch the FileNotFoundError"
      ],
      "metadata": {
        "id": "HwhrRJzALDaT"
      }
    },
    {
      "cell_type": "code",
      "source": [
        "try:\n",
        "    with open('file.txt', 'r') as file:\n",
        "        content = file.read()\n",
        "except FileNotFoundError:\n",
        "    print(\"The file does not exist.\")\n"
      ],
      "metadata": {
        "id": "hMlcsDDmMPQx"
      },
      "execution_count": 3,
      "outputs": []
    },
    {
      "cell_type": "markdown",
      "source": [
        "4.  Write a Python script that reads from one file and writes its content to another file\n",
        " - Here is a Python script that reads the content from one file and writes it to another file"
      ],
      "metadata": {
        "id": "RzLmKZLrMVY4"
      }
    },
    {
      "cell_type": "code",
      "source": [
        "# Open the source file for reading and the destination file for writing\n",
        "with open('source.txt', 'r') as source_file, open('destination.txt', 'w') as dest_file:\n",
        "    # Read content from the source file and write it to the destination file\n",
        "    content = source_file.read()\n",
        "    dest_file.write(content)\n",
        "\n",
        "print(\"Content has been copied to the destination file.\")\n"
      ],
      "metadata": {
        "id": "d-EUWR6mM1ZC"
      },
      "execution_count": null,
      "outputs": []
    },
    {
      "cell_type": "markdown",
      "source": [
        "This script uses the with statement to automatically handle file opening and closing. It reads all content from source.txt and writes it to destination.txt"
      ],
      "metadata": {
        "id": "HuWKsIS4M4Rb"
      }
    },
    {
      "cell_type": "markdown",
      "source": [
        "5.  How would you catch and handle division by zero error in Python\n",
        "To catch and handle a division by zero error in Python, you can use a try-except block and specifically handle the ZeroDivisionError."
      ],
      "metadata": {
        "id": "-oJAcJZpM-Nm"
      }
    },
    {
      "cell_type": "code",
      "source": [
        "try:\n",
        "    result = 10 / 0\n",
        "except ZeroDivisionError:\n",
        "    print(\"Error: Division by zero is not allowed.\")\n",
        "else:\n",
        "    print(\"Result:\", result)\n"
      ],
      "metadata": {
        "colab": {
          "base_uri": "https://localhost:8080/"
        },
        "id": "3wyOovQeNLHM",
        "outputId": "8f82db43-4125-4f2e-d4e5-612b0e1cc8de"
      },
      "execution_count": 6,
      "outputs": [
        {
          "output_type": "stream",
          "name": "stdout",
          "text": [
            "Error: Division by zero is not allowed.\n"
          ]
        }
      ]
    },
    {
      "cell_type": "markdown",
      "source": [
        "In this example, if a division by zero occurs, the except block catches the error and prints an error message. The else block is executed only if no error occurs."
      ],
      "metadata": {
        "id": "_B1hs4JPNPvO"
      }
    },
    {
      "cell_type": "markdown",
      "source": [
        "6. F Write a Python program that logs an error message to a log file when a division by zero exception occurs .\n"
      ],
      "metadata": {
        "id": "8Xr112kaNUPP"
      }
    },
    {
      "cell_type": "code",
      "source": [
        "import logging\n",
        "\n",
        "# Set up logging configuration\n",
        "logging.basicConfig(filename='error_log.txt', level=logging.ERROR, format='%(asctime)s - %(levelname)s - %(message)s')\n",
        "\n",
        "try:\n",
        "    # Division by zero error\n",
        "    result = 10 / 0\n",
        "except ZeroDivisionError as e:\n",
        "    logging.error(f\"Division by zero error: {e}\")\n",
        "\n",
        "print(\"Error has been logged.\")\n"
      ],
      "metadata": {
        "colab": {
          "base_uri": "https://localhost:8080/"
        },
        "id": "s_CaugCGNmrd",
        "outputId": "b42cdc88-e74b-4b6a-b447-1e085606da9e"
      },
      "execution_count": 7,
      "outputs": [
        {
          "output_type": "stream",
          "name": "stderr",
          "text": [
            "ERROR:root:Division by zero error: division by zero\n"
          ]
        },
        {
          "output_type": "stream",
          "name": "stdout",
          "text": [
            "Error has been logged.\n"
          ]
        }
      ]
    },
    {
      "cell_type": "markdown",
      "source": [
        "7.  How do you log information at different levels (INFO, ERROR, WARNING) in Python using the logging module"
      ],
      "metadata": {
        "id": "wQVtudiZNpVu"
      }
    },
    {
      "cell_type": "code",
      "source": [
        "import logging\n",
        "\n",
        "# Set up logging configuration\n",
        "logging.basicConfig(filename='app_log.txt', level=logging.DEBUG, format='%(asctime)s - %(levelname)s - %(message)s')\n",
        "\n",
        "# Log at different levels\n",
        "logging.debug(\"This is a debug message.\")\n",
        "logging.info(\"This is an info message.\")\n",
        "logging.warning(\"This is a warning message.\")\n",
        "logging.error(\"This is an error message.\")\n",
        "logging.critical(\"This is a critical message.\")\n"
      ],
      "metadata": {
        "colab": {
          "base_uri": "https://localhost:8080/"
        },
        "id": "Q7-pL_cbNwSv",
        "outputId": "bc5b9935-c135-4405-aa63-f969b82668c9"
      },
      "execution_count": 8,
      "outputs": [
        {
          "output_type": "stream",
          "name": "stderr",
          "text": [
            "WARNING:root:This is a warning message.\n",
            "ERROR:root:This is an error message.\n",
            "CRITICAL:root:This is a critical message.\n"
          ]
        }
      ]
    },
    {
      "cell_type": "markdown",
      "source": [
        "8  Write a program to handle a file opening error using exception handling\n",
        "-"
      ],
      "metadata": {
        "id": "uPCoCtG2N5xk"
      }
    },
    {
      "cell_type": "code",
      "source": [
        "try:\n",
        "    # Attempt to open a file that may not exist\n",
        "    with open('nonexistent_file.txt', 'r') as file:\n",
        "        content = file.read()\n",
        "        print(content)\n",
        "except FileNotFoundError as e:\n",
        "    print(f\"Error: The file was not found. Details: {e}\")\n",
        "except IOError as e:\n",
        "    print(f\"Error: There was an I/O issue. Details: {e}\")\n"
      ],
      "metadata": {
        "colab": {
          "base_uri": "https://localhost:8080/"
        },
        "id": "fHeNDUalOBUD",
        "outputId": "b385c3d4-e981-4383-c2bc-ddfd06a36252"
      },
      "execution_count": 9,
      "outputs": [
        {
          "output_type": "stream",
          "name": "stdout",
          "text": [
            "Error: The file was not found. Details: [Errno 2] No such file or directory: 'nonexistent_file.txt'\n"
          ]
        }
      ]
    },
    {
      "cell_type": "markdown",
      "source": [
        "9 .  How can you read a file line by line and store its content in a list in Python\n"
      ],
      "metadata": {
        "id": "s1St7zY8OICU"
      }
    },
    {
      "cell_type": "code",
      "source": [
        "# Using readlines()\n",
        "with open('file.txt', 'r') as file:\n",
        "    lines = file.readlines()\n",
        "\n",
        "# Using a for loop to iterate line by line\n",
        "with open('file.txt', 'r') as file:\n",
        "    lines = [line.strip() for line in file]  # .strip() removes trailing newline characters\n",
        "\n",
        "print(lines)\n"
      ],
      "metadata": {
        "colab": {
          "base_uri": "https://localhost:8080/"
        },
        "id": "6ZVxpJrPORHP",
        "outputId": "76a66734-661a-40d2-9b12-da6bbc0cf20f"
      },
      "execution_count": 10,
      "outputs": [
        {
          "output_type": "stream",
          "name": "stdout",
          "text": [
            "['This is a string written to the file.']\n"
          ]
        }
      ]
    },
    {
      "cell_type": "markdown",
      "source": [
        "10. How can you append data to an existing file in Python\n",
        "-"
      ],
      "metadata": {
        "id": "aH8H3-RhOY-7"
      }
    },
    {
      "cell_type": "code",
      "source": [
        "# Open the file in append mode\n",
        "with open('file.txt', 'a') as file:\n",
        "    file.write(\"This is new data added to the file.\\n\")\n",
        "\n",
        "print(\"Data has been appended to the file.\")\n"
      ],
      "metadata": {
        "colab": {
          "base_uri": "https://localhost:8080/"
        },
        "id": "yvnR-z9UOpTv",
        "outputId": "cfddc72a-6043-41b9-f66c-de2df63b05e5"
      },
      "execution_count": 11,
      "outputs": [
        {
          "output_type": "stream",
          "name": "stdout",
          "text": [
            "Data has been appended to the file.\n"
          ]
        }
      ]
    },
    {
      "cell_type": "markdown",
      "source": [
        "11. Write a Python program that uses a try-except block to handle an error when attempting to access a\n",
        "dictionary key that doesn't exist"
      ],
      "metadata": {
        "id": "eMk50rKtOr_X"
      }
    },
    {
      "cell_type": "code",
      "source": [
        "# Define a sample dictionary\n",
        "my_dict = {'name': 'Alice', 'age': 25}\n",
        "\n",
        "# Attempt to access a non-existent key\n",
        "try:\n",
        "    value = my_dict['address']\n",
        "except KeyError as e:\n",
        "    print(f\"Error: The key '{e}' does not exist in the dictionary.\")\n"
      ],
      "metadata": {
        "colab": {
          "base_uri": "https://localhost:8080/"
        },
        "id": "ieTTDB8ROy9L",
        "outputId": "b21f4444-bac3-4e88-ee88-ed2bde5aec36"
      },
      "execution_count": 12,
      "outputs": [
        {
          "output_type": "stream",
          "name": "stdout",
          "text": [
            "Error: The key ''address'' does not exist in the dictionary.\n"
          ]
        }
      ]
    },
    {
      "cell_type": "markdown",
      "source": [
        "12. Write a program that demonstrates using multiple except blocks to handle different types of exceptions"
      ],
      "metadata": {
        "id": "sK8VDpvFPA0L"
      }
    },
    {
      "cell_type": "code",
      "source": [
        "try:\n",
        "    # Try different operations that may raise exceptions\n",
        "    x = int(input(\"Enter a number: \"))  # May raise ValueError\n",
        "    result = 10 / x  # May raise ZeroDivisionError\n",
        "    print(f\"Result: {result}\")\n",
        "except ValueError:\n",
        "    print(\"Error: Invalid input. Please enter a valid number.\")\n",
        "except ZeroDivisionError:\n",
        "    print(\"Error: Cannot divide by zero.\")\n",
        "except Exception as e:\n",
        "    print(f\"An unexpected error occurred: {e}\")\n"
      ],
      "metadata": {
        "id": "-dZK5NTqPFSF"
      },
      "execution_count": null,
      "outputs": []
    },
    {
      "cell_type": "markdown",
      "source": [
        "  13 How would you check if a file exists before attempting to read it in Python"
      ],
      "metadata": {
        "id": "jDIlBWXsPORR"
      }
    },
    {
      "cell_type": "code",
      "source": [
        "import os\n",
        "\n",
        "# Specify the file path\n",
        "file_path = 'file.txt'\n",
        "\n",
        "# Check if the file exists\n",
        "if os.path.exists(file_path):\n",
        "    with open(file_path, 'r') as file:\n",
        "        content = file.read()\n",
        "    print(content)\n",
        "else:\n",
        "    print(f\"The file '{file_path}' does not exist.\")\n"
      ],
      "metadata": {
        "id": "mzTBbs2BPXfr"
      },
      "execution_count": null,
      "outputs": []
    },
    {
      "cell_type": "markdown",
      "source": [
        "14. Write a program that uses the logging module to log both informational and error messages"
      ],
      "metadata": {
        "id": "B3xEvP9lPitg"
      }
    },
    {
      "cell_type": "code",
      "source": [
        "import logging\n",
        "\n",
        "# Set up logging configuration\n",
        "logging.basicConfig(filename='app_log.txt', level=logging.DEBUG, format='%(asctime)s - %(levelname)s - %(message)s')\n",
        "\n",
        "# Log an informational message\n",
        "logging.info(\"This is an informational message.\")\n",
        "\n",
        "try:\n",
        "    # Simulate an error by dividing by zero\n",
        "    result = 10 / 0\n",
        "except ZeroDivisionError as e:\n",
        "    # Log the error message\n",
        "    logging.error(f\"Error occurred: {e}\")\n",
        "\n",
        "# Another informational message\n",
        "logging.info(\"Program execution completed.\")\n"
      ],
      "metadata": {
        "id": "DCTIQLbIPo_-"
      },
      "execution_count": null,
      "outputs": []
    },
    {
      "cell_type": "markdown",
      "source": [
        "15. try:\n",
        "    # Open the file in read mode\n",
        "    with open('file.txt', 'r') as file:\n",
        "        content = file.read()\n",
        "        \n",
        "        if not content:  # Check if the file is empty\n",
        "            print(\"The file is empty.\")\n",
        "        else:\n",
        "            print(\"File content:\")\n",
        "            print(content)\n",
        "except FileNotFoundError:\n",
        "    print(\"The file does not exist.\")\n",
        "except IOError as e:\n",
        "    print(f\"An error occurred while reading the file: {e}\")\n"
      ],
      "metadata": {
        "id": "tBc3nYlKPzCy"
      }
    },
    {
      "cell_type": "markdown",
      "source": [
        "16. F Demonstrate how to use memory profiling to check the memory usage of a small program\n",
        "\n",
        "To demonstrate memory profiling in Python, you can use the memory_profiler module. This module allows you to monitor the memory usage of your program line by line.\n",
        "\n",
        "First, install the memory_profiler module using pip:\n"
      ],
      "metadata": {
        "id": "w0GHyIU6P967"
      }
    },
    {
      "cell_type": "code",
      "source": [
        "pip install memory-profiler\n"
      ],
      "metadata": {
        "id": "G9hcM-qKQCID"
      },
      "execution_count": null,
      "outputs": []
    },
    {
      "cell_type": "markdown",
      "source": [
        "17. Write a Python program to create and write a list of numbers to a file, one number per line"
      ],
      "metadata": {
        "id": "ZGIYsvnbQQzG"
      }
    },
    {
      "cell_type": "code",
      "source": [
        "# Define a list of numbers\n",
        "numbers = [1, 2, 3, 4, 5, 6, 7, 8, 9, 10]\n",
        "\n",
        "# Open the file in write mode\n",
        "with open('numbers.txt', 'w') as file:\n",
        "    for number in numbers:\n",
        "        file.write(f\"{number}\\n\")  # Write each number on a new line\n",
        "\n",
        "print(\"Numbers have been written to 'numbers.txt'.\")\n"
      ],
      "metadata": {
        "id": "BUh7PmOhQXMG"
      },
      "execution_count": null,
      "outputs": []
    },
    {
      "cell_type": "markdown",
      "source": [
        "18.  How would you implement a basic logging setup that logs to a file with rotation after 1MB .\n",
        "- To implement a basic logging setup that logs to a file with rotation after the file size reaches 1MB, you can use the logging.handlers.RotatingFileHandler class. This handler automatically rotates the log file when it exceeds a specified size."
      ],
      "metadata": {
        "id": "khc_2D_-QegS"
      }
    },
    {
      "cell_type": "code",
      "source": [
        "import logging\n",
        "from logging.handlers import RotatingFileHandler\n",
        "\n",
        "# Set up logging configuration with rotation\n",
        "logger = logging.getLogger('my_logger')\n",
        "logger.setLevel(logging.DEBUG)\n",
        "\n",
        "# Create a rotating file handler\n",
        "handler = RotatingFileHandler('app_log.txt', maxBytes=1e6, backupCount=3)  # 1MB max size, keep 3 backup files\n",
        "handler.setLevel(logging.DEBUG)\n",
        "\n",
        "# Create a log format\n",
        "formatter = logging.Formatter('%(asctime)s - %(levelname)s - %(message)s')\n",
        "handler.setFormatter(formatter)\n",
        "\n",
        "# Add the handler to the logger\n",
        "logger.addHandler(handler)\n",
        "\n",
        "# Log some messages\n",
        "logger.debug(\"This is a debug message.\")\n",
        "logger.info(\"This is an info message.\")\n",
        "logger.warning(\"This is a warning message.\")\n",
        "logger.error(\"This is an error message.\")\n",
        "logger.critical(\"This is a critical message.\")\n"
      ],
      "metadata": {
        "id": "jLjcfG2-Ql5V"
      },
      "execution_count": null,
      "outputs": []
    },
    {
      "cell_type": "markdown",
      "source": [
        "19. Write a program that handles both IndexError and KeyError using a try-except block"
      ],
      "metadata": {
        "id": "YtzkafYOQ0cj"
      }
    },
    {
      "cell_type": "code",
      "source": [
        "# Sample list and dictionary\n",
        "my_list = [1, 2, 3]\n",
        "my_dict = {'a': 1, 'b': 2}\n",
        "\n",
        "try:\n",
        "    # Attempt to access an index that doesn't exist in the list\n",
        "    print(my_list[5])\n",
        "\n",
        "    # Attempt to access a key that doesn't exist in the dictionary\n",
        "    print(my_dict['c'])\n",
        "\n",
        "except IndexError as ie:\n",
        "    print(f\"IndexError occurred: {ie}\")\n",
        "\n",
        "except KeyError as ke:\n",
        "    print(f\"KeyError occurred: {ke}\")\n"
      ],
      "metadata": {
        "id": "S6UqjVYSRJ-R"
      },
      "execution_count": null,
      "outputs": []
    },
    {
      "cell_type": "markdown",
      "source": [
        "20. How would you open a file and read its contents using a context manager in Python\n"
      ],
      "metadata": {
        "id": "F3vnj4-yRNSf"
      }
    },
    {
      "cell_type": "code",
      "source": [
        "# Open the file using a context manager\n",
        "with open('file.txt', 'r') as file:\n",
        "    content = file.read()  # Read the entire content of the file\n",
        "    print(content)\n"
      ],
      "metadata": {
        "id": "wWBoCgPPRmsS"
      },
      "execution_count": null,
      "outputs": []
    },
    {
      "cell_type": "markdown",
      "source": [
        "21 .  Write a Python program that reads a file and prints the number of occurrences of a specific word"
      ],
      "metadata": {
        "id": "eU0vdazuRpLX"
      }
    },
    {
      "cell_type": "code",
      "source": [
        "# Define the word to search for\n",
        "word_to_search = \"Python\"\n",
        "\n",
        "# Initialize a counter for the word occurrences\n",
        "word_count = 0\n",
        "\n",
        "# Open the file in read mode\n",
        "with open('file.txt', 'r') as file:\n",
        "    # Read each line in the file\n",
        "    for line in file:\n",
        "        # Count occurrences of the specific word in the line (case insensitive)\n",
        "        word_count += line.lower().split().count(word_to_search.lower())\n",
        "\n",
        "# Print the result\n",
        "print(f\"The word '{word_to_search}' appears {word_count} times in the file.\")\n"
      ],
      "metadata": {
        "id": "9xLvrwlBRz8c"
      },
      "execution_count": null,
      "outputs": []
    },
    {
      "cell_type": "markdown",
      "source": [
        "22. How can you check if a file is empty before attempting to read its contents"
      ],
      "metadata": {
        "id": "nVRmrX-VR2er"
      }
    },
    {
      "cell_type": "code",
      "source": [
        "# Define the word to search for\n",
        "word_to_search = \"Python\"\n",
        "\n",
        "# Initialize a counter for the word occurrences\n",
        "word_count = 0\n",
        "\n",
        "# Open the file in read mode\n",
        "with open('file.txt', 'r') as file:\n",
        "    # Read each line in the file\n",
        "    for line in file:\n",
        "        # Count occurrences of the specific word in the line (case insensitive)\n",
        "        word_count += line.lower().split().count(word_to_search.lower())\n",
        "\n",
        "# Print the result\n",
        "print(f\"The word '{word_to_search}' appears {word_count} times in the file.\")\n"
      ],
      "metadata": {
        "id": "Z0xn61nfR8hJ"
      },
      "execution_count": null,
      "outputs": []
    },
    {
      "cell_type": "markdown",
      "source": [
        "23. Write a Python program that writes to a log file when an error occurs during file handling"
      ],
      "metadata": {
        "id": "sGlrDGKeSE1R"
      }
    },
    {
      "cell_type": "code",
      "source": [
        "import logging\n",
        "\n",
        "# Set up the logging configuration\n",
        "logging.basicConfig(filename='file_error.log', level=logging.ERROR,\n",
        "                    format='%(asctime)s - %(levelname)s - %(message)s')\n",
        "\n",
        "try:\n",
        "    # Attempt to open a non-existent file\n",
        "    with open('non_existent_file.txt', 'r') as file:\n",
        "        content = file.read()\n",
        "\n",
        "except Exception as e:\n",
        "    # Log the error to the log file\n",
        "    logging.error(f\"Error occurred while handling file: {e}\")\n",
        "    print(\"An error occurred. Please check the log file for details.\")\n"
      ],
      "metadata": {
        "id": "r407DpkISJCj"
      },
      "execution_count": null,
      "outputs": []
    }
  ]
}